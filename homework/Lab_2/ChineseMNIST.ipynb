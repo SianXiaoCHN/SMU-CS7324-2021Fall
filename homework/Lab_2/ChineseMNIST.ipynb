{
 "cells": [
  {
   "cell_type": "markdown",
   "source": [
    "# Lab Two: Exploring Image Data\n",
    "#### Sian Xiao & Tingting Zhao"
   ],
   "metadata": {}
  },
  {
   "cell_type": "markdown",
   "source": [
    "## Business Understanding\n",
    "Give an overview of the dataset. Describe the purpose of the data set you selected (i.e., why was this data collected in the first place?). What is the prediction task for your dataset and which third parties would be interested in the results? Why is this data important? Once you begin modeling, how well would your prediction algorithm need to perform to be considered useful to the identified third parties? Be specific and use your own words to describe the aspects of the data. "
   ],
   "metadata": {}
  },
  {
   "cell_type": "code",
   "execution_count": null,
   "source": [],
   "outputs": [],
   "metadata": {}
  },
  {
   "cell_type": "markdown",
   "source": [
    "| value     | character | code |\n",
    "|-----------|-----------|------|\n",
    "| 0         | 零        | 1    |\n",
    "| 1         | 一        | 2    |\n",
    "| 2         | 二        | 3    |\n",
    "| 3         | 三        | 4    |\n",
    "| 4         | 四        | 5    |\n",
    "| 5         | 五        | 6    |\n",
    "| 6         | 六        | 7    |\n",
    "| 7         | 七        | 8    |\n",
    "| 8         | 八        | 9    |\n",
    "| 9         | 九        | 10   |\n",
    "| 10        | 十        | 11   |\n",
    "| 100       | 百        | 12   |\n",
    "| 1000      | 千        | 13   |\n",
    "| 10000     | 万        | 14   |\n",
    "| 100000000 | 亿        | 15   |"
   ],
   "metadata": {}
  },
  {
   "cell_type": "code",
   "execution_count": null,
   "source": [],
   "outputs": [],
   "metadata": {}
  },
  {
   "cell_type": "code",
   "execution_count": null,
   "source": [],
   "outputs": [],
   "metadata": {}
  },
  {
   "cell_type": "code",
   "execution_count": null,
   "source": [],
   "outputs": [],
   "metadata": {}
  },
  {
   "cell_type": "code",
   "execution_count": null,
   "source": [
    "import pandas as pd"
   ],
   "outputs": [],
   "metadata": {
    "ExecuteTime": {
     "end_time": "2021-09-15T19:40:56.929255Z",
     "start_time": "2021-09-15T19:40:56.478501Z"
    }
   }
  },
  {
   "cell_type": "code",
   "execution_count": null,
   "source": [
    "info = pd.read_csv('archive/chinese_mnist.csv', encoding='utf-8')\n",
    "info.head()"
   ],
   "outputs": [],
   "metadata": {
    "ExecuteTime": {
     "end_time": "2021-09-15T19:41:05.707100Z",
     "start_time": "2021-09-15T19:41:05.679629Z"
    }
   }
  },
  {
   "cell_type": "code",
   "execution_count": null,
   "source": [
    "info_group = info.groupby(by='value')\n",
    "info_group.character.value_counts()"
   ],
   "outputs": [],
   "metadata": {
    "ExecuteTime": {
     "end_time": "2021-09-15T19:42:18.848969Z",
     "start_time": "2021-09-15T19:42:18.833286Z"
    }
   }
  },
  {
   "cell_type": "markdown",
   "source": [
    "## Data Preparation"
   ],
   "metadata": {}
  },
  {
   "cell_type": "code",
   "execution_count": null,
   "source": [
    "import cv2\n",
    "import matplotlib.pyplot as plt"
   ],
   "outputs": [],
   "metadata": {
    "ExecuteTime": {
     "end_time": "2021-09-15T20:07:00.812867Z",
     "start_time": "2021-09-15T20:06:54.412019Z"
    }
   }
  },
  {
   "cell_type": "code",
   "execution_count": null,
   "source": [
    "path_test = 'archive/data/data/input_1_1_1.jpg'\n",
    "img = cv2.imread(path_test, 0)\n",
    "plt.show(img)\n",
    "img_re = cv2.bitwise_not(img)\n",
    "plt.imshow(img_re)\n",
    "new = img_re/255.0"
   ],
   "outputs": [],
   "metadata": {
    "ExecuteTime": {
     "end_time": "2021-09-15T20:07:37.409908Z",
     "start_time": "2021-09-15T20:07:37.406817Z"
    }
   }
  },
  {
   "cell_type": "code",
   "execution_count": null,
   "source": [
    "img = cv2.imread(path_test, 0)\n",
    "print(new.sum())"
   ],
   "outputs": [],
   "metadata": {
    "ExecuteTime": {
     "end_time": "2021-09-15T20:07:55.301703Z",
     "start_time": "2021-09-15T20:07:55.297861Z"
    }
   }
  },
  {
   "cell_type": "code",
   "execution_count": null,
   "source": [
    "print(new.sum()/len(new))"
   ],
   "outputs": [],
   "metadata": {
    "ExecuteTime": {
     "end_time": "2021-09-15T20:08:47.982140Z",
     "start_time": "2021-09-15T20:08:47.978389Z"
    }
   }
  },
  {
   "cell_type": "code",
   "execution_count": null,
   "source": [
    "print(len(new))"
   ],
   "outputs": [],
   "metadata": {
    "ExecuteTime": {
     "end_time": "2021-09-15T20:09:00.881108Z",
     "start_time": "2021-09-15T20:09:00.876055Z"
    }
   }
  },
  {
   "cell_type": "code",
   "execution_count": null,
   "source": [
    "import matplotlib.pyplot as plt\n",
    "plt.imshow(new)"
   ],
   "outputs": [],
   "metadata": {}
  },
  {
   "cell_type": "code",
   "execution_count": null,
   "source": [
    "print(new)"
   ],
   "outputs": [],
   "metadata": {}
  },
  {
   "cell_type": "code",
   "execution_count": null,
   "source": [
    "new = new.reshape(-1)\n",
    "print(new.sum()/len(new))"
   ],
   "outputs": [],
   "metadata": {}
  }
 ],
 "metadata": {
  "kernelspec": {
   "name": "python3",
   "display_name": "Python 3.8.8 64-bit ('base': conda)"
  },
  "language_info": {
   "codemirror_mode": {
    "name": "ipython",
    "version": 3
   },
   "file_extension": ".py",
   "mimetype": "text/x-python",
   "name": "python",
   "nbconvert_exporter": "python",
   "pygments_lexer": "ipython3",
   "version": "3.8.8"
  },
  "varInspector": {
   "cols": {
    "lenName": 16,
    "lenType": 16,
    "lenVar": 40
   },
   "kernels_config": {
    "python": {
     "delete_cmd_postfix": "",
     "delete_cmd_prefix": "del ",
     "library": "var_list.py",
     "varRefreshCmd": "print(var_dic_list())"
    },
    "r": {
     "delete_cmd_postfix": ") ",
     "delete_cmd_prefix": "rm(",
     "library": "var_list.r",
     "varRefreshCmd": "cat(var_dic_list()) "
    }
   },
   "types_to_exclude": [
    "module",
    "function",
    "builtin_function_or_method",
    "instance",
    "_Feature"
   ],
   "window_display": false
  },
  "interpreter": {
   "hash": "d13b93fd688227a26a5727b28022c4dac4b9029fd98babb4a8585698170cff6e"
  }
 },
 "nbformat": 4,
 "nbformat_minor": 5
}