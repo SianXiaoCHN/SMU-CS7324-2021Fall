{
 "cells": [
  {
   "cell_type": "code",
   "execution_count": 1,
   "id": "a3cd3b42",
   "metadata": {
    "ExecuteTime": {
     "end_time": "2021-11-08T20:09:01.777085Z",
     "start_time": "2021-11-08T20:09:01.442903Z"
    }
   },
   "outputs": [],
   "source": [
    "import pandas as pd\n",
    "import numpy as np"
   ]
  },
  {
   "cell_type": "code",
   "execution_count": 2,
   "id": "b9ee6f20",
   "metadata": {
    "ExecuteTime": {
     "end_time": "2021-11-08T20:09:01.874773Z",
     "start_time": "2021-11-08T20:09:01.778518Z"
    }
   },
   "outputs": [
    {
     "name": "stdout",
     "output_type": "stream",
     "text": [
      "(38531, 30)\n"
     ]
    }
   ],
   "source": [
    "# load data\n",
    "data = pd.read_csv('cars.csv')\n",
    "print(data.shape)"
   ]
  },
  {
   "cell_type": "code",
   "execution_count": 3,
   "id": "2719e7ca",
   "metadata": {
    "ExecuteTime": {
     "end_time": "2021-11-08T20:09:01.922819Z",
     "start_time": "2021-11-08T20:09:01.875949Z"
    }
   },
   "outputs": [
    {
     "name": "stdout",
     "output_type": "stream",
     "text": [
      "Missing values: 10\n",
      "Duplicate values: 40\n"
     ]
    }
   ],
   "source": [
    "# check missing and duplicated data\n",
    "print(f\"Missing values: {data.isna().sum().sum()}\")\n",
    "print(f\"Duplicate values: {data.duplicated().sum()}\")"
   ]
  },
  {
   "cell_type": "markdown",
   "id": "cc79dfcb",
   "metadata": {},
   "source": [
    "**The missing data and duplicate data only make up a small portion of the whole dataset, so let's just delete them.**"
   ]
  },
  {
   "cell_type": "code",
   "execution_count": 4,
   "id": "db5eb57a",
   "metadata": {
    "ExecuteTime": {
     "end_time": "2021-11-08T20:09:01.990890Z",
     "start_time": "2021-11-08T20:09:01.923904Z"
    }
   },
   "outputs": [
    {
     "name": "stdout",
     "output_type": "stream",
     "text": [
      "(38481, 30)\n"
     ]
    }
   ],
   "source": [
    "# delete missing and duplicated data\n",
    "data.dropna(inplace=True)\n",
    "data.drop_duplicates(inplace=True)\n",
    "print(data.shape)"
   ]
  },
  {
   "cell_type": "code",
   "execution_count": 5,
   "id": "8c551405",
   "metadata": {
    "ExecuteTime": {
     "end_time": "2021-11-08T20:09:02.009491Z",
     "start_time": "2021-11-08T20:09:01.991918Z"
    }
   },
   "outputs": [
    {
     "data": {
      "text/html": [
       "<div>\n",
       "<style scoped>\n",
       "    .dataframe tbody tr th:only-of-type {\n",
       "        vertical-align: middle;\n",
       "    }\n",
       "\n",
       "    .dataframe tbody tr th {\n",
       "        vertical-align: top;\n",
       "    }\n",
       "\n",
       "    .dataframe thead th {\n",
       "        text-align: right;\n",
       "    }\n",
       "</style>\n",
       "<table border=\"1\" class=\"dataframe\">\n",
       "  <thead>\n",
       "    <tr style=\"text-align: right;\">\n",
       "      <th></th>\n",
       "      <th>manufacturer_name</th>\n",
       "      <th>model_name</th>\n",
       "      <th>transmission</th>\n",
       "      <th>color</th>\n",
       "      <th>odometer_value</th>\n",
       "      <th>year_produced</th>\n",
       "      <th>engine_fuel</th>\n",
       "      <th>engine_has_gas</th>\n",
       "      <th>engine_type</th>\n",
       "      <th>engine_capacity</th>\n",
       "      <th>...</th>\n",
       "      <th>feature_1</th>\n",
       "      <th>feature_2</th>\n",
       "      <th>feature_3</th>\n",
       "      <th>feature_4</th>\n",
       "      <th>feature_5</th>\n",
       "      <th>feature_6</th>\n",
       "      <th>feature_7</th>\n",
       "      <th>feature_8</th>\n",
       "      <th>feature_9</th>\n",
       "      <th>duration_listed</th>\n",
       "    </tr>\n",
       "  </thead>\n",
       "  <tbody>\n",
       "    <tr>\n",
       "      <th>0</th>\n",
       "      <td>Subaru</td>\n",
       "      <td>Outback</td>\n",
       "      <td>automatic</td>\n",
       "      <td>silver</td>\n",
       "      <td>190000</td>\n",
       "      <td>2010</td>\n",
       "      <td>gasoline</td>\n",
       "      <td>False</td>\n",
       "      <td>gasoline</td>\n",
       "      <td>2.5</td>\n",
       "      <td>...</td>\n",
       "      <td>True</td>\n",
       "      <td>True</td>\n",
       "      <td>True</td>\n",
       "      <td>False</td>\n",
       "      <td>True</td>\n",
       "      <td>False</td>\n",
       "      <td>True</td>\n",
       "      <td>True</td>\n",
       "      <td>True</td>\n",
       "      <td>16</td>\n",
       "    </tr>\n",
       "    <tr>\n",
       "      <th>1</th>\n",
       "      <td>Subaru</td>\n",
       "      <td>Outback</td>\n",
       "      <td>automatic</td>\n",
       "      <td>blue</td>\n",
       "      <td>290000</td>\n",
       "      <td>2002</td>\n",
       "      <td>gasoline</td>\n",
       "      <td>False</td>\n",
       "      <td>gasoline</td>\n",
       "      <td>3.0</td>\n",
       "      <td>...</td>\n",
       "      <td>True</td>\n",
       "      <td>False</td>\n",
       "      <td>False</td>\n",
       "      <td>True</td>\n",
       "      <td>True</td>\n",
       "      <td>False</td>\n",
       "      <td>False</td>\n",
       "      <td>False</td>\n",
       "      <td>True</td>\n",
       "      <td>83</td>\n",
       "    </tr>\n",
       "    <tr>\n",
       "      <th>2</th>\n",
       "      <td>Subaru</td>\n",
       "      <td>Forester</td>\n",
       "      <td>automatic</td>\n",
       "      <td>red</td>\n",
       "      <td>402000</td>\n",
       "      <td>2001</td>\n",
       "      <td>gasoline</td>\n",
       "      <td>False</td>\n",
       "      <td>gasoline</td>\n",
       "      <td>2.5</td>\n",
       "      <td>...</td>\n",
       "      <td>True</td>\n",
       "      <td>False</td>\n",
       "      <td>False</td>\n",
       "      <td>False</td>\n",
       "      <td>False</td>\n",
       "      <td>False</td>\n",
       "      <td>False</td>\n",
       "      <td>True</td>\n",
       "      <td>True</td>\n",
       "      <td>151</td>\n",
       "    </tr>\n",
       "    <tr>\n",
       "      <th>3</th>\n",
       "      <td>Subaru</td>\n",
       "      <td>Impreza</td>\n",
       "      <td>mechanical</td>\n",
       "      <td>blue</td>\n",
       "      <td>10000</td>\n",
       "      <td>1999</td>\n",
       "      <td>gasoline</td>\n",
       "      <td>False</td>\n",
       "      <td>gasoline</td>\n",
       "      <td>3.0</td>\n",
       "      <td>...</td>\n",
       "      <td>False</td>\n",
       "      <td>False</td>\n",
       "      <td>False</td>\n",
       "      <td>False</td>\n",
       "      <td>False</td>\n",
       "      <td>False</td>\n",
       "      <td>False</td>\n",
       "      <td>False</td>\n",
       "      <td>False</td>\n",
       "      <td>86</td>\n",
       "    </tr>\n",
       "    <tr>\n",
       "      <th>4</th>\n",
       "      <td>Subaru</td>\n",
       "      <td>Legacy</td>\n",
       "      <td>automatic</td>\n",
       "      <td>black</td>\n",
       "      <td>280000</td>\n",
       "      <td>2001</td>\n",
       "      <td>gasoline</td>\n",
       "      <td>False</td>\n",
       "      <td>gasoline</td>\n",
       "      <td>2.5</td>\n",
       "      <td>...</td>\n",
       "      <td>True</td>\n",
       "      <td>False</td>\n",
       "      <td>True</td>\n",
       "      <td>True</td>\n",
       "      <td>False</td>\n",
       "      <td>False</td>\n",
       "      <td>False</td>\n",
       "      <td>False</td>\n",
       "      <td>True</td>\n",
       "      <td>7</td>\n",
       "    </tr>\n",
       "  </tbody>\n",
       "</table>\n",
       "<p>5 rows × 30 columns</p>\n",
       "</div>"
      ],
      "text/plain": [
       "  manufacturer_name model_name transmission   color  odometer_value  \\\n",
       "0            Subaru    Outback    automatic  silver          190000   \n",
       "1            Subaru    Outback    automatic    blue          290000   \n",
       "2            Subaru   Forester    automatic     red          402000   \n",
       "3            Subaru    Impreza   mechanical    blue           10000   \n",
       "4            Subaru     Legacy    automatic   black          280000   \n",
       "\n",
       "   year_produced engine_fuel  engine_has_gas engine_type  engine_capacity  \\\n",
       "0           2010    gasoline           False    gasoline              2.5   \n",
       "1           2002    gasoline           False    gasoline              3.0   \n",
       "2           2001    gasoline           False    gasoline              2.5   \n",
       "3           1999    gasoline           False    gasoline              3.0   \n",
       "4           2001    gasoline           False    gasoline              2.5   \n",
       "\n",
       "   ... feature_1  feature_2 feature_3 feature_4  feature_5  feature_6  \\\n",
       "0  ...      True       True      True     False       True      False   \n",
       "1  ...      True      False     False      True       True      False   \n",
       "2  ...      True      False     False     False      False      False   \n",
       "3  ...     False      False     False     False      False      False   \n",
       "4  ...      True      False      True      True      False      False   \n",
       "\n",
       "  feature_7  feature_8  feature_9  duration_listed  \n",
       "0      True       True       True               16  \n",
       "1     False      False       True               83  \n",
       "2     False       True       True              151  \n",
       "3     False      False      False               86  \n",
       "4     False      False       True                7  \n",
       "\n",
       "[5 rows x 30 columns]"
      ]
     },
     "execution_count": 5,
     "metadata": {},
     "output_type": "execute_result"
    }
   ],
   "source": [
    "data.head()"
   ]
  },
  {
   "cell_type": "markdown",
   "id": "8557552a",
   "metadata": {},
   "source": [
    "**The first thing I noticed is that `engine_fuel` and `engine_type` are pretty similar. I choose to check their data.**"
   ]
  },
  {
   "cell_type": "code",
   "execution_count": 6,
   "id": "7f6a79c7",
   "metadata": {
    "ExecuteTime": {
     "end_time": "2021-11-08T20:09:02.015527Z",
     "start_time": "2021-11-08T20:09:02.010466Z"
    }
   },
   "outputs": [
    {
     "name": "stdout",
     "output_type": "stream",
     "text": [
      "['gasoline' 'gas' 'diesel' 'hybrid-petrol' 'hybrid-diesel']\n",
      "['gasoline' 'diesel']\n"
     ]
    }
   ],
   "source": [
    "print(data.engine_fuel.unique())\n",
    "print(data.engine_type.unique())"
   ]
  },
  {
   "cell_type": "code",
   "execution_count": 7,
   "id": "3f0e714a",
   "metadata": {
    "ExecuteTime": {
     "end_time": "2021-11-08T20:09:06.684800Z",
     "start_time": "2021-11-08T20:09:02.017439Z"
    }
   },
   "outputs": [
    {
     "name": "stdout",
     "output_type": "stream",
     "text": [
      "0\n"
     ]
    }
   ],
   "source": [
    "mapping = {'gasoline': 'gasoline',\n",
    "          'gas': 'gasoline',\n",
    "          'diesel': 'diesel',\n",
    "          'hybrid-petrol': 'gasoline',\n",
    "          'hybrid-diesel' : 'diesel',\n",
    "          'electric': 'electric'}\n",
    "\n",
    "count = 0\n",
    "for i in range(len(data)):\n",
    "    if data.iloc[i].engine_type != mapping[data.iloc[i].engine_fuel]:\n",
    "        count += 1\n",
    "print(count)"
   ]
  },
  {
   "cell_type": "markdown",
   "id": "b0b4b37b",
   "metadata": {},
   "source": [
    "**The count value 0 means they just have this mapping relationship. But `engine_fuel` is more specific, so I will keep it and delete the other.**"
   ]
  },
  {
   "cell_type": "code",
   "execution_count": 8,
   "id": "9598aa42",
   "metadata": {
    "ExecuteTime": {
     "end_time": "2021-11-08T20:09:06.691429Z",
     "start_time": "2021-11-08T20:09:06.686011Z"
    }
   },
   "outputs": [],
   "source": [
    "data.drop(columns=['engine_type'], inplace=True)"
   ]
  },
  {
   "cell_type": "code",
   "execution_count": 9,
   "id": "228eb25b",
   "metadata": {
    "ExecuteTime": {
     "end_time": "2021-11-08T20:09:06.711448Z",
     "start_time": "2021-11-08T20:09:06.692320Z"
    }
   },
   "outputs": [
    {
     "name": "stdout",
     "output_type": "stream",
     "text": [
      "<class 'pandas.core.frame.DataFrame'>\n",
      "Int64Index: 38481 entries, 0 to 38530\n",
      "Data columns (total 29 columns):\n",
      " #   Column             Non-Null Count  Dtype  \n",
      "---  ------             --------------  -----  \n",
      " 0   manufacturer_name  38481 non-null  object \n",
      " 1   model_name         38481 non-null  object \n",
      " 2   transmission       38481 non-null  object \n",
      " 3   color              38481 non-null  object \n",
      " 4   odometer_value     38481 non-null  int64  \n",
      " 5   year_produced      38481 non-null  int64  \n",
      " 6   engine_fuel        38481 non-null  object \n",
      " 7   engine_has_gas     38481 non-null  bool   \n",
      " 8   engine_capacity    38481 non-null  float64\n",
      " 9   body_type          38481 non-null  object \n",
      " 10  has_warranty       38481 non-null  bool   \n",
      " 11  state              38481 non-null  object \n",
      " 12  drivetrain         38481 non-null  object \n",
      " 13  price_usd          38481 non-null  float64\n",
      " 14  is_exchangeable    38481 non-null  bool   \n",
      " 15  location_region    38481 non-null  object \n",
      " 16  number_of_photos   38481 non-null  int64  \n",
      " 17  up_counter         38481 non-null  int64  \n",
      " 18  feature_0          38481 non-null  bool   \n",
      " 19  feature_1          38481 non-null  bool   \n",
      " 20  feature_2          38481 non-null  bool   \n",
      " 21  feature_3          38481 non-null  bool   \n",
      " 22  feature_4          38481 non-null  bool   \n",
      " 23  feature_5          38481 non-null  bool   \n",
      " 24  feature_6          38481 non-null  bool   \n",
      " 25  feature_7          38481 non-null  bool   \n",
      " 26  feature_8          38481 non-null  bool   \n",
      " 27  feature_9          38481 non-null  bool   \n",
      " 28  duration_listed    38481 non-null  int64  \n",
      "dtypes: bool(13), float64(2), int64(5), object(9)\n",
      "memory usage: 5.5+ MB\n"
     ]
    }
   ],
   "source": [
    "data.info()"
   ]
  },
  {
   "cell_type": "markdown",
   "id": "f3d4c8ab",
   "metadata": {
    "ExecuteTime": {
     "end_time": "2021-11-08T19:23:20.599315Z",
     "start_time": "2021-11-08T19:23:15.939567Z"
    }
   },
   "source": [
    "**In my opinion, `location_region` and `number_of_photos` have no relevance with the `price_usd`, so I prefer to delete them.**"
   ]
  },
  {
   "cell_type": "code",
   "execution_count": 10,
   "id": "4eac80d1",
   "metadata": {
    "ExecuteTime": {
     "end_time": "2021-11-08T20:09:06.718496Z",
     "start_time": "2021-11-08T20:09:06.712390Z"
    }
   },
   "outputs": [],
   "source": [
    "data.drop(columns=['location_region', 'number_of_photos'], inplace=True)"
   ]
  },
  {
   "cell_type": "markdown",
   "id": "6ba3a31d",
   "metadata": {},
   "source": [
    "**It's easy to see that many features are boolean type, so we can convert them into 1 and 0.**"
   ]
  },
  {
   "cell_type": "code",
   "execution_count": 11,
   "id": "b8e47867",
   "metadata": {
    "ExecuteTime": {
     "end_time": "2021-11-08T20:09:06.727582Z",
     "start_time": "2021-11-08T20:09:06.719451Z"
    }
   },
   "outputs": [],
   "source": [
    "for column in data.columns:\n",
    "    if data.dtypes[column] == 'bool':\n",
    "        data[column] = data[column].astype(np.int)"
   ]
  },
  {
   "cell_type": "markdown",
   "id": "d999bc55",
   "metadata": {},
   "source": [
    "**We can further check the object type features.**"
   ]
  },
  {
   "cell_type": "code",
   "execution_count": 12,
   "id": "a0c5688f",
   "metadata": {
    "ExecuteTime": {
     "end_time": "2021-11-08T20:09:06.744882Z",
     "start_time": "2021-11-08T20:09:06.728417Z"
    }
   },
   "outputs": [
    {
     "data": {
      "text/plain": [
       "{'manufacturer_name': 55,\n",
       " 'model_name': 1116,\n",
       " 'transmission': 2,\n",
       " 'color': 12,\n",
       " 'engine_fuel': 5,\n",
       " 'body_type': 12,\n",
       " 'state': 3,\n",
       " 'drivetrain': 3}"
      ]
     },
     "execution_count": 12,
     "metadata": {},
     "output_type": "execute_result"
    }
   ],
   "source": [
    "{column: len(data[column].unique()) for column in data.columns if data.dtypes[column] == 'object'}"
   ]
  },
  {
   "cell_type": "code",
   "execution_count": 17,
   "id": "012e45ba",
   "metadata": {
    "ExecuteTime": {
     "end_time": "2021-11-08T20:18:50.168077Z",
     "start_time": "2021-11-08T20:18:50.127202Z"
    }
   },
   "outputs": [
    {
     "name": "stdout",
     "output_type": "stream",
     "text": [
      "Drivetrain has ['all' 'front' 'rear']\n",
      "Transmission has ['automatic' 'mechanical']\n",
      "State has ['owned' 'emergency' 'new']\n",
      "Color has ['silver' 'blue' 'red' 'black' 'grey' 'other' 'brown' 'white' 'green'\n",
      " 'violet' 'orange' 'yellow']\n",
      "Body_type has ['universal' 'suv' 'sedan' 'hatchback' 'liftback' 'minivan' 'minibus'\n",
      " 'van' 'pickup' 'coupe' 'cabriolet' 'limousine']\n"
     ]
    }
   ],
   "source": [
    "print(f\"Drivetrain has {data.drivetrain.unique()}\")\n",
    "print(f\"Transmission has {data.transmission.unique()}\")\n",
    "print(f\"State has {data.state.unique()}\")\n",
    "print(f\"Color has {data.color.unique()}\")\n",
    "print(f\"Body_type has {data.body_type.unique()}\")"
   ]
  },
  {
   "cell_type": "code",
   "execution_count": null,
   "id": "9bbaff1f",
   "metadata": {},
   "outputs": [],
   "source": []
  },
  {
   "cell_type": "code",
   "execution_count": null,
   "id": "cf67c3cb",
   "metadata": {},
   "outputs": [],
   "source": []
  },
  {
   "cell_type": "code",
   "execution_count": null,
   "id": "cb804ec8",
   "metadata": {},
   "outputs": [],
   "source": []
  },
  {
   "cell_type": "markdown",
   "id": "a99cad14",
   "metadata": {},
   "source": [
    "## My thought:\n",
    "### Identify groups of features in your data that should be combined into cross-product features. Provide justification for why these features should be crossed (or why some features should not be crossed). \n",
    "\n",
    "**The manufacturer_name should be combined with model. These two together make sense. (I can later write explanation)**\\\n",
    "**Drive train and transmission together**\\\n",
    "**Model and body_type. or manufacturer_name, model, body_type**\\\n",
    "**color is not a big deal to me, we can just do like one_hot or later delete it**"
   ]
  },
  {
   "cell_type": "markdown",
   "id": "21bfb09f",
   "metadata": {},
   "source": [
    "**Manufacture: manufacturer_name, model_name, body_type**\\\n",
    "**Power: transmission, engine_fuel, drive train**\\\n",
    "**Appearance: State, color ???**"
   ]
  },
  {
   "cell_type": "markdown",
   "id": "c45c66c6",
   "metadata": {},
   "source": [
    "### metric(s)\n",
    "If not accuracy. We are doing regression? Maybe others."
   ]
  },
  {
   "cell_type": "markdown",
   "id": "83a48f4c",
   "metadata": {},
   "source": [
    "## dividing your data into training and testing (i.e., are you using Stratified 10-fold cross validation? Shuffle splits? Why?). Explain why your chosen method is appropriate or use more than one method as appropriate. Argue why your cross validation method is a realistic mirroring of how an algorithm would be used in practice. \n",
    "\n",
    "Need to cover all the categories."
   ]
  },
  {
   "cell_type": "code",
   "execution_count": null,
   "id": "00709a7d",
   "metadata": {},
   "outputs": [],
   "source": []
  }
 ],
 "metadata": {
  "kernelspec": {
   "display_name": "Python 3.8.8 64-bit ('base': conda)",
   "language": "python",
   "name": "python388jvsc74a57bd040d3a090f54c6569ab1632332b64b2c03c39dcf918b08424e98f38b5ae0af88f"
  },
  "language_info": {
   "codemirror_mode": {
    "name": "ipython",
    "version": 3
   },
   "file_extension": ".py",
   "mimetype": "text/x-python",
   "name": "python",
   "nbconvert_exporter": "python",
   "pygments_lexer": "ipython3",
   "version": "3.8.8"
  }
 },
 "nbformat": 4,
 "nbformat_minor": 5
}
